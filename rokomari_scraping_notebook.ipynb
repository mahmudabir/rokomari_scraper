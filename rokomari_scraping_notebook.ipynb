{
 "cells": [
  {
   "cell_type": "code",
   "execution_count": 1,
   "metadata": {
    "tags": [
     "Imports"
    ]
   },
   "outputs": [],
   "source": [
    "# The code is importing various modules and helper functions from different files.\n",
    "\n",
    "import re\n",
    "import time\n",
    "\n",
    "from bs4 import BeautifulSoup, NavigableString, ResultSet, Tag\n",
    "\n",
    "import rokomari_scrap_helper as rsh\n",
    "from helpers import common_helper as ch\n",
    "from helpers import json_helper as jh\n",
    "from helpers import scraping_helper as sh\n",
    "from models.book import Book\n",
    "from models.book_category import BookCategory"
   ]
  },
  {
   "cell_type": "code",
   "execution_count": null,
   "metadata": {},
   "outputs": [],
   "source": [
    "\n",
    "book_category_list: list[BookCategory] = rsh.get_book_category_list()\n",
    "\n",
    "print(\"Total Book Categories Count: \", book_category_list.__len__())"
   ]
  },
  {
   "cell_type": "code",
   "execution_count": null,
   "metadata": {},
   "outputs": [],
   "source": [
    "dynamic_book_category_list = rsh.get_book_categories_containing_url_segment(\n",
    "    book_category_list, \"/book/category\"\n",
    ")\n",
    "print(\"Total Dynamic Book Categories Count: \", dynamic_book_category_list.__len__())\n",
    "\n",
    "static_book_category_list = rsh.get_book_categories_not_containing_url_segment(\n",
    "    book_category_list, \"/book/category\"\n",
    ")\n",
    "print(\"Total Static Book Categories Count: \", static_book_category_list.__len__())"
   ]
  },
  {
   "cell_type": "code",
   "execution_count": null,
   "metadata": {},
   "outputs": [],
   "source": [
    "book_list = rsh.get_all_books_with_dynamic_category(dynamic_book_category_list)\n",
    "\n",
    "print(f\"Books Count: {book_list.__len__()}\")\n",
    "print(f\"Books: \\n {jh.data_to_json_string(book_list)}\")"
   ]
  },
  {
   "cell_type": "code",
   "execution_count": null,
   "metadata": {},
   "outputs": [],
   "source": [
    "book_list_json_string = jh.data_to_json_string(book_list)\n",
    "jh.save_json_string_into_file(book_list_json_string, rsh.books_json_file_path)\n",
    "print(f\"Books list saved into {rsh.books_json_file_path} file.\")"
   ]
  }
 ],
 "metadata": {
  "kernelspec": {
   "display_name": "venv",
   "language": "python",
   "name": "python3"
  },
  "language_info": {
   "codemirror_mode": {
    "name": "ipython",
    "version": 3
   },
   "file_extension": ".py",
   "mimetype": "text/x-python",
   "name": "python",
   "nbconvert_exporter": "python",
   "pygments_lexer": "ipython3",
   "version": "3.11.7"
  }
 },
 "nbformat": 4,
 "nbformat_minor": 2
}
