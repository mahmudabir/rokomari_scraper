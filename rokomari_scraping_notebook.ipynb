{
 "cells": [
  {
   "cell_type": "code",
   "execution_count": null,
   "metadata": {
    "tags": [
     "Imports"
    ]
   },
   "outputs": [],
   "source": [
    "# The code is importing various modules and helper functions from different files.\n",
    "\n",
    "import re\n",
    "import time\n",
    "\n",
    "from bs4 import BeautifulSoup, NavigableString, ResultSet, Tag\n",
    "\n",
    "import rokomari_scrap_helper as rsh\n",
    "from helpers import common_helper as ch\n",
    "from helpers import json_helper as jh\n",
    "from helpers import scraping_helper as sh\n",
    "from models.book import Book\n",
    "from models.book_category import BookCategory"
   ]
  },
  {
   "cell_type": "code",
   "execution_count": null,
   "metadata": {
    "tags": [
     "Book Categories"
    ]
   },
   "outputs": [],
   "source": [
    "book_category_list: list[BookCategory] = rsh.get_book_category_list()\n",
    "\n",
    "print(\"Total Book Categories Count: \", book_category_list.__len__())\n",
    "\n",
    "dynamic_book_category_list = rsh.get_book_categories_containing_url_segment(\n",
    "    book_category_list, \"/book/category\"\n",
    ")\n",
    "print(\"Total Dynamic Book Categories Count: \", dynamic_book_category_list.__len__())\n",
    "\n",
    "static_book_category_list = rsh.get_book_categories_not_containing_url_segment(\n",
    "    book_category_list, \"/book/category\"\n",
    ")\n",
    "print(\"Total Static Book Categories Count: \", static_book_category_list.__len__())"
   ]
  },
  {
   "cell_type": "code",
   "execution_count": null,
   "metadata": {},
   "outputs": [],
   "source": [
    "book_category = dynamic_book_category_list[0]\n",
    "\n",
    "pagination_response = sh.get_http_response(book_category.url)\n",
    "\n",
    "book_list: list[Book] = []\n",
    "\n",
    "if pagination_response.status_code != 200:\n",
    "    book_list = []\n",
    "    \n",
    "else:\n",
    "    pagination_soup = sh.parse_html_content_as_string(pagination_response.text)"
   ]
  },
  {
   "cell_type": "code",
   "execution_count": null,
   "metadata": {},
   "outputs": [],
   "source": [
    "pagination_element = sh.find_one_by_class_name(pagination_soup, 'div', 'pagination')\n",
    "\n",
    "pagination_list = pagination_element.text.strip().split()\n",
    "numbers = [int(x) for x in pagination_list if x.isdigit()]\n",
    "largest_page_number = max(numbers)\n",
    "print(f\"Total Page Numbers: {largest_page_number}\")"
   ]
  },
  {
   "cell_type": "code",
   "execution_count": null,
   "metadata": {},
   "outputs": [],
   "source": [
    "list_page_url = f\"{book_category.url}&page={largest_page_number}\"\n",
    "book_list_page_response = sh.get_http_response(book_category.url)\n",
    "\n",
    "book_card_list: list[Tag] = []\n",
    "book_list: list[Book] = []\n",
    "\n",
    "if book_list_page_response.status_code != 200:\n",
    "    book_list = []\n",
    "else:\n",
    "    book_list_page_soup = sh.parse_html_content_as_string(book_list_page_response.text)\n",
    "\n",
    "    book_card_list: list[Tag] = sh.find_all_by_class_name(\n",
    "        book_list_page_soup, \"div\", \"books-wrapper__item\"\n",
    "    )"
   ]
  },
  {
   "cell_type": "code",
   "execution_count": null,
   "metadata": {},
   "outputs": [],
   "source": [
    "print(book_card_list.__len__())\n",
    "\n",
    "for book_card_item in book_card_list:\n",
    "    \n",
    "    # book_url\n",
    "    tag_item = sh.find_all_by_tag_name(book_card_item, \"a\")[1]\n",
    "    all_book_urls = sh.get_value_of_attributes([tag_item], \"href\")\n",
    "    book_url = rsh.base_url + all_book_urls[0].get(\"value\").strip()\n",
    "    \n",
    "    # image_url\n",
    "    book_image_item = sh.find_all_by_tag_name(book_card_item, \"img\")[1]\n",
    "    all_image_urls = sh.get_value_of_attributes([book_image_item], \"src\")\n",
    "    image_url = rsh.base_url + all_image_urls[0].get(\"value\").strip()\n",
    "    \n",
    "    \n",
    "    # book-title\n",
    "    book_title_item = sh.find_one_by_class_name(book_card_item, \"h4\", \"book-title\")\n",
    "    book_title = book_title_item.text.strip()\n",
    "    \n",
    "    # book-author\n",
    "    book_author_item = sh.find_one_by_class_name(book_card_item, \"p\", \"book-author\")\n",
    "    book_author = book_author_item.text.strip()\n",
    "    \n",
    "    \n",
    "    \n",
    "    \n",
    "    \n",
    "    book_list.append(\n",
    "        Book(\n",
    "            title=book_title,\n",
    "            author=book_author,\n",
    "            isAvailable=False,\n",
    "            originalPrice=0,\n",
    "            currentPrice=0,\n",
    "            imageUrl=image_url,\n",
    "            bookUrl=book_url,\n",
    "            category=book_category,\n",
    "        )\n",
    "    )\n",
    "    \n",
    "print(jh.data_to_json_string(book_list))\n"
   ]
  }
 ],
 "metadata": {
  "kernelspec": {
   "display_name": "venv",
   "language": "python",
   "name": "python3"
  },
  "language_info": {
   "codemirror_mode": {
    "name": "ipython",
    "version": 3
   },
   "file_extension": ".py",
   "mimetype": "text/x-python",
   "name": "python",
   "nbconvert_exporter": "python",
   "pygments_lexer": "ipython3",
   "version": "3.11.7"
  }
 },
 "nbformat": 4,
 "nbformat_minor": 2
}
